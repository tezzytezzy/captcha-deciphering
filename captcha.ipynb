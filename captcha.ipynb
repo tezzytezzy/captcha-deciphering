{
 "cells": [
  {
   "cell_type": "code",
   "execution_count": 1,
   "metadata": {},
   "outputs": [
    {
     "name": "stdout",
     "output_type": "stream",
     "text": [
      "https://www.cicic.ca/Telerik.Web.UI.WebResource.axd?type=rca&guid=69722afe-2c5c-4ace-8332-3ae0f2075e11\n"
     ]
    }
   ],
   "source": [
    "import requests\n",
    "from bs4 import BeautifulSoup\n",
    "from urllib.parse import urljoin\n",
    "\n",
    "base_url = \"https://www.cicic.ca/\"\n",
    "\n",
    "r = requests.get(base_url)\n",
    "html_soup = BeautifulSoup(r.text, 'html.parser')\n",
    "contact_us_sub_url = html_soup.find('a', string=\"Contact us\", href=True)['href']\n",
    "\n",
    "r = requests.get(requests.compat.urljoin(base_url, contact_us_sub_url))\n",
    "html_soup = BeautifulSoup(r.text, 'html.parser')\n",
    "captcha_image_relative_url = html_soup.find(id=\"ctl13_ctl00_RadCaptcha1_CaptchaImage\")['src']\n",
    "captcha_image_absolute_url = requests.compat.urljoin(base_url, captcha_image_relative_url)\n",
    "\n",
    "print(captcha_image_absolute_url)"
   ]
  },
  {
   "cell_type": "code",
   "execution_count": 2,
   "metadata": {},
   "outputs": [],
   "source": [
    "PATH = !pwd\n",
    "FILE_NAME = \"captcha_image.jpg\"\n",
    "\n",
    "r = requests.get(captcha_image_absolute_url, stream=True)\n",
    "# stream=True\n",
    "#  Python will store the full file contents in memory before writing it to your file. When dealing with huge files, \n",
    "#  this can easily overwhelm a computer’s memory capacity. To tackle this, requests also allows to stream in a \n",
    "#  response by setting the stream argument to True\n",
    "\n",
    "with open(f\"{PATH[0]}/{FILE_NAME}\", 'wb') as the_image:\n",
    "# print(PATH) -> \"['/home/to/gits/captcha-cracking']\" with square brackets at either end, returning as\n",
    "#  a special shell return type defined in IPython: type(PATH) -> IPython.utils.text.SList\n",
    "# So, take the first element of it with [0]\n",
    "    for byte_chunk in r.iter_content(chunk_size=4096*4):\n",
    "        the_image.write(byte_chunk)"
   ]
  },
  {
   "cell_type": "code",
   "execution_count": null,
   "metadata": {},
   "outputs": [],
   "source": [
    "# Define some settings such as how many sample CAPTCHA images to create, in what directory to save them,\n",
    "# how many alphanumeric characters per image shoule be written, etc., in 'constants.py'\n",
    "%run constants.py\n",
    "\n",
    "# Generate a bunch of CAPTCHA images and save them to the designated directory\n",
    "%run generate.py\n",
    "\n",
    "%run test.py\n",
    "%run cut.py\n",
    "%run train.py\n",
    "%run apply.py\n"
   ]
  }
 ],
 "metadata": {
  "kernelspec": {
   "display_name": "Python 3",
   "language": "python",
   "name": "python3"
  },
  "language_info": {
   "codemirror_mode": {
    "name": "ipython",
    "version": 3
   },
   "file_extension": ".py",
   "mimetype": "text/x-python",
   "name": "python",
   "nbconvert_exporter": "python",
   "pygments_lexer": "ipython3",
   "version": "3.7.4"
  }
 },
 "nbformat": 4,
 "nbformat_minor": 2
}
