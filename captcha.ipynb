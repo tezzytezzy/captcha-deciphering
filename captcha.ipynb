{
 "cells": [
  {
   "cell_type": "code",
   "execution_count": 3,
   "metadata": {},
   "outputs": [
    {
     "name": "stdout",
     "output_type": "stream",
     "text": [
      "https://www.cicic.ca/Telerik.Web.UI.WebResource.axd?type=rca&guid=e45f025f-eef7-44fe-a8d1-134f91fb5275\n"
     ]
    }
   ],
   "source": [
    "\n",
    "###\n",
    "#installed via pip\n",
    "# pip install opencv-python\n",
    "# pip install beautifulsoup4\n",
    "# pip install captcha\n",
    "# \n",
    "# conda install glob2\n",
    "# conda install keras\n",
    "# conda install scikit-learn\n",
    "###\n",
    "\n",
    "# Scrapy (https://scrapy.org/) and Selenium (https://www.seleniumhq.org/) with Webdriver were considered, but...\n",
    "\n",
    "\n",
    "\n",
    "# just issue 'contact us captcha canada\" on Google to find an practice!\n",
    "# < img\n",
    "# id = \"ctl13_ctl00_RadCaptcha1_CaptchaImage\"\n",
    "# alt = \"\"\n",
    "# src = \"../Telerik.Web.UI.WebResource.axd?type=rca&amp;guid=72a89ccf-3f3f-4e11-9523-7eeb77719ac7\"\n",
    "# style = \"height:50px;width:180px;display:block;\" > < p > < input\n",
    "# name = \"ctl13$ctl00$RadCaptcha1$CaptchaTextBox\"\n",
    "# type = \"text\"\n",
    "# maxlength = \"5\"\n",
    "# id = \"ctl13_ctl00_RadCaptcha1_CaptchaTextBox\"\n",
    "# title = \"\"\n",
    "# autocomplete = \"off\"\n",
    "#\n",
    "#\n",
    "# class =\"\" > < label for =\"ctl13_ctl00_RadCaptcha1_CaptchaTextBox\" id=\"ctl13_ctl00_RadCaptcha1_CaptchaTextBoxLabel\" > < / label > < / p >\n",
    "\n",
    "import requests\n",
    "from bs4 import BeautifulSoup\n",
    "#import urllib.request\n",
    "from urllib.parse import urljoin\n",
    "\n",
    "base_url = \"https://www.cicic.ca/\"\n",
    "\n",
    "r = requests.get(base_url)\n",
    "html_soup = BeautifulSoup(r.text, 'html.parser')\n",
    "\n",
    "\n",
    "#contact_us_a_tag = html_soup.find(a['href'])\n",
    "contact_us_sub_url = html_soup.find('a', string=\"Contact us\", href=True)['href']\n",
    "\n",
    "#print(contact_us_a_tag)\n",
    "#print(contact_us_a_tag['href'])\n",
    "#contact_us_href = contact_us_a_tag.find('href')\n",
    "#print(contact_us_href)\n",
    "#contact_us_sub_url = \"../contact_us.canada\"\n",
    "\n",
    "#requests.compat.urljoin(base_url, contact_us_a_tag)\n",
    "\n",
    "r = requests.get(requests.compat.urljoin(base_url, contact_us_sub_url))\n",
    "\n",
    "# html_sauce = urllib.request.urlopen(base_url).read()\n",
    "html_soup = BeautifulSoup(r.text, 'html.parser')\n",
    "\n",
    "\n",
    "captcha_image_relative_url = html_soup.find(id=\"ctl13_ctl00_RadCaptcha1_CaptchaImage\")['src']\n",
    "\n",
    "\n",
    "captcha_image_absolute_url = requests.compat.urljoin(base_url, captcha_image_relative_url)\n",
    "print(captcha_image_absolute_url)\n",
    "\n",
    "\n",
    "# sauce = urllib.request.urlopen(web_url).read()\n",
    "# soup = bs.BeautifulSoup(sauce,'lxml')\n",
    "\n",
    "\n",
    "\n",
    "#print(urljoin(base_url,url.get('href')))\n",
    "    \n",
    "    \n",
    "\n",
    "\n",
    "# base_url = \"https://www.cicic.ca/\"\n",
    "# contact_us_sub_url = \"/contact_us.canada\"\n",
    "# requests.compat.urljoin(base_url, contact_us_sub_url)\n",
    "\n",
    "# r = requests.get\n",
    "\n",
    "\n",
    "# html_soup = BeautifulSoup(r.text, 'html.parser')\n",
    "\n",
    "\n",
    "# image2 = html_soup.find(id=\"ctl13_ctl00_RadCaptcha1_CaptchaImage\")\n",
    "\n",
    "\n",
    "\n",
    "\n",
    "# image = html_soup.find(class_=\"RadCaptcha RadCaptcha_Default\")\n",
    "\n",
    "# image2 = html_soup.find(id=\"ctl13_ctl00_RadCaptcha1_CaptchaImage\")"
   ]
  },
  {
   "cell_type": "code",
   "execution_count": 4,
   "metadata": {},
   "outputs": [],
   "source": [
    "PATH = !pwd\n",
    "FILE_NAME = \"captcha_image.jpg\"\n",
    "# image = Image.open(captcha_image_absolute_url)\n",
    "# image.save(f\"[PATH]/captcha_image.jpg\", format=\"jpg\")\n",
    "\n",
    "r = requests.get(captcha_image_absolute_url, stream=True)\n",
    "\n",
    "# PATH prints at this point as \"['/home/to/gits/captcha-cracking']\" with square brackets at either end.\n",
    "#FileNotFoundError: [Errno 2] No such file or directory: \"['/home/to/gits/captcha-cracking']/captcha-image.jpg\"\n",
    "# Note that these results are not returned as a list, but as a special shell return type defined in IPython:\n",
    "# In [8]: type(directory)\n",
    "# IPython.utils.text.SList\n",
    "# So, take the first element of it with [0]\n",
    "\n",
    "with open(f\"{PATH[0]}/{FILE_NAME}\", 'wb') as the_image:\n",
    "    for byte_chunk in r.iter_content(chunk_size=4096*4):\n",
    "        the_image.write(byte_chunk)"
   ]
  },
  {
   "cell_type": "code",
   "execution_count": 6,
   "metadata": {},
   "outputs": [
    {
     "ename": "TypeError",
     "evalue": "unsupported operand type(s) for +: 'module' and 'str'",
     "output_type": "error",
     "traceback": [
      "\u001b[0;31m---------------------------------------------------------------------------\u001b[0m",
      "\u001b[0;31mTypeError\u001b[0m                                 Traceback (most recent call last)",
      "\u001b[0;32m<ipython-input-6-5d003f7d4649>\u001b[0m in \u001b[0;36m<module>\u001b[0;34m\u001b[0m\n\u001b[1;32m      1\u001b[0m \u001b[0;32mimport\u001b[0m \u001b[0mos\u001b[0m\u001b[0;34m,\u001b[0m \u001b[0mos\u001b[0m\u001b[0;34m.\u001b[0m\u001b[0mpath\u001b[0m\u001b[0;34m\u001b[0m\u001b[0;34m\u001b[0m\u001b[0m\n\u001b[1;32m      2\u001b[0m \u001b[0;34m\u001b[0m\u001b[0m\n\u001b[0;32m----> 3\u001b[0;31m \u001b[0;32mwith\u001b[0m \u001b[0mopen\u001b[0m\u001b[0;34m(\u001b[0m\u001b[0mos\u001b[0m\u001b[0;34m.\u001b[0m\u001b[0mpath\u001b[0m \u001b[0;34m+\u001b[0m \u001b[0;34m\"captcha-images\"\u001b[0m\u001b[0;34m,\u001b[0m \u001b[0;34m'wb'\u001b[0m\u001b[0;34m)\u001b[0m \u001b[0;32mas\u001b[0m \u001b[0mthe_image\u001b[0m\u001b[0;34m:\u001b[0m\u001b[0;34m\u001b[0m\u001b[0;34m\u001b[0m\u001b[0m\n\u001b[0m\u001b[1;32m      4\u001b[0m     \u001b[0;32mfor\u001b[0m \u001b[0mbyte_chunk\u001b[0m \u001b[0;32min\u001b[0m \u001b[0mr\u001b[0m\u001b[0;34m.\u001b[0m\u001b[0miter_content\u001b[0m\u001b[0;34m(\u001b[0m\u001b[0mchunk_size\u001b[0m\u001b[0;34m=\u001b[0m\u001b[0;36m4096\u001b[0m\u001b[0;34m*\u001b[0m\u001b[0;36m4\u001b[0m\u001b[0;34m)\u001b[0m\u001b[0;34m:\u001b[0m\u001b[0;34m\u001b[0m\u001b[0;34m\u001b[0m\u001b[0m\n\u001b[1;32m      5\u001b[0m         \u001b[0mthe_image\u001b[0m\u001b[0;34m.\u001b[0m\u001b[0mwrite\u001b[0m\u001b[0;34m(\u001b[0m\u001b[0mbyte_chunk\u001b[0m\u001b[0;34m)\u001b[0m\u001b[0;34m\u001b[0m\u001b[0;34m\u001b[0m\u001b[0m\n",
      "\u001b[0;31mTypeError\u001b[0m: unsupported operand type(s) for +: 'module' and 'str'"
     ]
    }
   ],
   "source": [
    "#import os, os.path\n",
    "# Refer page 122\n",
    "# with open(os.path + \"captcha-images\", 'wb') as the_image:\n",
    "#     for byte_chunk in r.iter_content(chunk_size=4096*4):\n",
    "#         the_image.write(byte_chunk)"
   ]
  },
  {
   "cell_type": "code",
   "execution_count": null,
   "metadata": {},
   "outputs": [],
   "source": [
    "def download(url):\n",
    "    r = requests.get(url, stream=True)\n",
    "    filename = urlparse(url).path.split('/')[-1]\n",
    "    print('Downloading to:', filename)\n",
    "    with open(os.path.join(\"captcha-images\", filename), 'wb') as the_image:\n",
    "        for byte_chunk in r.iter_content(chunk_size=4096*4):\n",
    "            the_image.write(byte_chunk)"
   ]
  }
 ],
 "metadata": {
  "kernelspec": {
   "display_name": "Python 3",
   "language": "python",
   "name": "python3"
  },
  "language_info": {
   "codemirror_mode": {
    "name": "ipython",
    "version": 3
   },
   "file_extension": ".py",
   "mimetype": "text/x-python",
   "name": "python",
   "nbconvert_exporter": "python",
   "pygments_lexer": "ipython3",
   "version": "3.7.4"
  }
 },
 "nbformat": 4,
 "nbformat_minor": 2
}
